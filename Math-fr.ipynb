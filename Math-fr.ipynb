{
 "cells": [
  {
   "cell_type": "markdown",
   "metadata": {},
   "source": [
    "# Générateur des règles - (fr)"
   ]
  },
  {
   "cell_type": "code",
   "execution_count": 1,
   "metadata": {},
   "outputs": [],
   "source": [
    "import json\n",
    "\n",
    "from RulesTransduction.tokenizer import *\n",
    "from RulesTransduction.rulesFST import *\n",
    "\n",
    "letters = TokenizerTransducer.read_json(\"Tokens/letters.json\")\n",
    "tex_tokens = TokenizerTransducer.read_json(\"Tokens/tex_letters.json\")\n",
    "\n",
    "Lemm = RulesTransducer(letters, letters, complete=True, drop=False, maximize=True,  text_file='Rules/fr/Lemmatizer/lemm.txt')\n",
    "\n",
    "ENCODING = 'utf-8'"
   ]
  },
  {
   "cell_type": "markdown",
   "metadata": {},
   "source": [
    "### 1. Noms de variables"
   ]
  },
  {
   "cell_type": "code",
   "execution_count": 2,
   "metadata": {},
   "outputs": [],
   "source": [
    "chars = [chr(i) for i in range(ord('a'), ord('z') + 1)]\n",
    "Chars = [chr(i) for i in range(ord('A'), ord('Z') + 1)]\n",
    "\n",
    "# minuscules\n",
    "min_char = {\n",
    "    char:[char] for char in chars\n",
    "}\n",
    "\n",
    "# majuscules\n",
    "maj_char = {\n",
    "    char:[\"grand \" + char.lower()] for char in Chars \n",
    "}\n",
    "\n",
    "# lettres calligraphiques\n",
    "cal_char = {\n",
    "    \"\\\\mathcal { \" + char + \" }\":[char.lower() + \" calligraphique\"] for char in Chars \n",
    "}\n",
    "\n",
    "# black board\n",
    "mbb_char = {\n",
    "    \"\\\\mathbb { \" + char + \" }\":[char.lower() + \" double barre\", char.lower() + \" avec double barre\", \"double barre \" + char.lower(), \"black board \" + char.lower()] for char in Chars\n",
    "}\n",
    "\n",
    "greek_min_var_names = [\n",
    "    \"alpha\", \n",
    "    \"beta\",\n",
    "    \"gamma\",\n",
    "    \"delta\",\n",
    "    \"epsilon\",\n",
    "    \"zeta\",\n",
    "    \"eta\",\n",
    "    \"theta\",\n",
    "    \"iota\",\n",
    "    \"kappa\",\n",
    "    \"lambda\",\n",
    "    \"mu\",\n",
    "    \"nu\",\n",
    "    \"xi\",\n",
    "    \"pi\",\n",
    "    \"rho\",\n",
    "    \"sigma\",\n",
    "    \"tau\",\n",
    "    \"upsilon\",\n",
    "    \"phi\",\n",
    "    \"chi\",\n",
    "    \"psi\",\n",
    "    \"omega\"\n",
    "]\n",
    "\n",
    "greek_maj_var_names = [\n",
    "    \"Gamma\",\n",
    "    \"Delta\",\n",
    "    \"Theta\",\n",
    "    \"Lambda\",\n",
    "    \"Xi\",\n",
    "    \"Pi\",\n",
    "    \"Sigma\",\n",
    "    \"Phi\",\n",
    "    \"Omega\"\n",
    "]\n",
    "\n",
    "# minuscules\n",
    "greek_min_vars = {\n",
    "    \"\\\\\" + var : [var] for var in greek_min_var_names\n",
    "}\n",
    "greek_min_vars[\"\\\\xi\"] = [\"xi\", \"ksi\"]\n",
    "greek_min_vars[\"\\\\chi\"] = [\"chi\", \"khi\"]\n",
    "\n",
    "# majuscules\n",
    "greek_maj_vars = {\n",
    "    \"\\\\\" + var : [\"grand \" + var.lower()] for var in greek_maj_var_names\n",
    "}\n",
    "greek_maj_vars[\"\\\\Xi\"] = [\"grand xi\", \"grand ksi\"]\n",
    "\n",
    "# varname\n",
    "greek_var_vars = {\n",
    "    \"\\\\varepsilon\":[\"varepsilon\", \"var epsilon\"],\n",
    "    \"\\\\varpi\":[\"varpi\", \"var pi\"],\n",
    "    \"\\\\varrho\":[\"varrho\", \"var rho\"],\n",
    "    \"\\\\varsigma\":[\"varsigma\", \"var sigma\"]\n",
    "}\n",
    "\n",
    "\n",
    "var = {\n",
    "\n",
    "    **min_char,\n",
    "    **maj_char,\n",
    "    **cal_char,\n",
    "    **mbb_char,\n",
    "    **greek_min_vars,\n",
    "    **greek_maj_vars,\n",
    "    **greek_var_vars\n",
    "}"
   ]
  },
  {
   "cell_type": "markdown",
   "metadata": {},
   "source": [
    "### 2. Chiffres"
   ]
  },
  {
   "cell_type": "code",
   "execution_count": 3,
   "metadata": {},
   "outputs": [],
   "source": [
    "# chiffres\n",
    "digit = {\n",
    "\n",
    "    \"0\":[\"zero\",\"0\"],\n",
    "    \"1\":[\"un\",\"1\"],\n",
    "    \"2\":[\"deux\",\"2\"],\n",
    "    \"3\":[\"trois\",\"3\"],\n",
    "    \"4\":[\"quatre\",\"4\"],\n",
    "    \"5\":[\"cinq\", \"5\"],\n",
    "    \"6\":[\"six\", \"6\"],\n",
    "    \"7\":[\"sept\", \"7\"],\n",
    "    \"8\":[\"huit\", \"8\"],\n",
    "    \"9\":[\"neuf\", \"9\"]\n",
    "\n",
    "}"
   ]
  },
  {
   "cell_type": "markdown",
   "metadata": {},
   "source": [
    "### 3. Infini"
   ]
  },
  {
   "cell_type": "code",
   "execution_count": 4,
   "metadata": {},
   "outputs": [],
   "source": [
    "infty = {\n",
    "    \"\\\\infty\":[\"infini\"]\n",
    "}"
   ]
  },
  {
   "cell_type": "markdown",
   "metadata": {},
   "source": [
    "### 4. Ensembles"
   ]
  },
  {
   "cell_type": "code",
   "execution_count": 5,
   "metadata": {},
   "outputs": [],
   "source": [
    "sets = {\n",
    "    \"\\\\mathbb { N }\" : [\"entiers naturels\", \"ensemble des entiers naturels\", \"ensemble grand n\"],\n",
    "    \"\\\\mathbb { Z }\" : [\"entiers relatifs\", \"ensemble des entiers relatifs\", \"ensemble grand z\"],\n",
    "    \"\\\\mathbb { Q }\" : [\"rationnels\", \"ensemble des rationnels\", \"ensemble rationnel\", \"ensemble grand q\"],\n",
    "    \"\\\\mathbb { R }\" : [\"reel\", \"ensemble des reels\", \"ensemble reel\", \"ensemble grand r\"],\n",
    "    \"\\\\mathbb { C }\" : [\"complexe\", \"ensemble des complexes\", \"ensemble complexe\", \"ensemble grand c\"],\n",
    "\n",
    "    \"\\\\mathbb { N } ^ { * }\":[\"entier strictement positif\", \"entier naturel non nul\"],\n",
    "    \"\\\\mathbb { Z } ^ { * }\":[\"entier non nul\", \"relatif non nul\"],\n",
    "    \"\\\\mathbb { R } ^ { + }\":[\"ensemble des reels positifs\", \"reel positif\"],\n",
    "    \"\\\\mathbb { R } ^ { - }\":[\"ensemble des reels negatifs\", \"reel negatif\"],\n",
    "    \"\\\\mathbb { R } ^ { + } _ { * }\":[\"ensemble des reels strictement positifs\", \"ensemble des reels positifs non nuls\", \"r plus etoile\", \"reel strictement positif\", \"reel positif non nul\"],\n",
    "    \"\\\\mathbb { R } ^ { - } _ { * }\":[\"ensemble des reels strictement negatifs\", \"ensemble des reels negatifs non nuls\", \"r moins etoile\", \"reel strictement negatif\", \"reel negatif non nul\"],\n",
    "}"
   ]
  },
  {
   "cell_type": "markdown",
   "metadata": {},
   "source": [
    "### 5. Relations"
   ]
  },
  {
   "cell_type": "code",
   "execution_count": 6,
   "metadata": {},
   "outputs": [],
   "source": [
    "rel = {\n",
    "\n",
    "    # ordre\n",
    "    \">\":['plus grand', 'superieur', \"plus grand que\", \"superieur à\"],\n",
    "    \"\\\\geq\":['plus grand ou egal', 'superieur ou egal', 'plus grand ou egal à', \"superieur ou egal à\"],\n",
    "    \"<\":['plus petit', 'inferieur', 'plus petit que', 'inferieur à'],\n",
    "    \"\\\\leq\":['plus petit ou egal', 'inferieur ou egal', 'plus petit ou egal à', 'inferieur ou egal à'],\n",
    "\n",
    "    # égalité\n",
    "    \"=\":[\"egal\", \"egal à\", \"allant de\"],\n",
    "    \": =\":[\"egal par definition\", \"defini par\"],\n",
    "    \"\\\\neq\":[\"different\", \"different de\"],\n",
    "    \"\\\\simeq\":[\"environ egal\", \"environ egal à\", \"isomorphe\", \"isomorphe à\"],\n",
    "    \"\\\\propto\":[\"proportionnel\", \"proportionnel à\"],\n",
    "    \"\\\\sim\":[\"suit\"],\n",
    "    \n",
    "    # ensembles\n",
    "    \"\\\\in\":[\"appartient\", \"appartient à\", \"dans\"],\n",
    "    \"\\\\notin\":[\"appartient pas\", \"appartient pas à\"],\n",
    "    \"\\\\subset\":[\"inclu\", \"inclu dans\"],\n",
    "    \"\\\\subseteq\":[\"inclu ou egal\", \"inclu ou egal à\"],\n",
    "    \"\\\\not\\\\subset\":[\"pas inclu\", \"pas inclu dans\", \"non inclu\", \"non inclu dans\"],\n",
    "    \"\\\\not\\\\subseteq\":[\"pas inclu ou egal\", \"non inclu ou egal\", \"pas inclu ou egal à\", \"non inclu ou egal à\"],\n",
    "\n",
    "    # convergence et équivalences\n",
    "    \"\\\\Rightarrow\":['implique'],\n",
    "    \"\\\\Leftrightarrow\":[\"equivalent\"],\n",
    "    \"\\\\rightarrow\":['fleche'],\n",
    "    \"\\\\longrightarrow\":['longue fleche', 'tend vers'],\n",
    "    '\\\\overset { L } { \\\\longrightarrow }':['converge en loi'],\n",
    "    '\\\\overset { \\\\mathbb { P } } { \\\\longrightarrow }':['converge en probabilite'],\n",
    "\n",
    "    # espace entre expressions\n",
    "    '\\\\quad':['espace']\n",
    "\n",
    "}"
   ]
  },
  {
   "cell_type": "markdown",
   "metadata": {},
   "source": [
    "### 6. Quantificateurs logiques"
   ]
  },
  {
   "cell_type": "code",
   "execution_count": 7,
   "metadata": {},
   "outputs": [],
   "source": [
    "quantif = {\n",
    "    \"\\\\forall\":['pour tout'],\n",
    "    \"\\\\exists\":['existe'],\n",
    "    \"\\\\exists !\":['existe un unique', 'existe unique'],\n",
    "}"
   ]
  },
  {
   "cell_type": "markdown",
   "metadata": {},
   "source": [
    "### 7. Opérateurs unaires"
   ]
  },
  {
   "cell_type": "code",
   "execution_count": 8,
   "metadata": {},
   "outputs": [],
   "source": [
    "un_op = {\n",
    "\n",
    "   \"+\":['plus'],\n",
    "   \"-\":[\"moins\"],\n",
    "\n",
    "}"
   ]
  },
  {
   "cell_type": "markdown",
   "metadata": {},
   "source": [
    "### 8. Opérateurs binaires"
   ]
  },
  {
   "cell_type": "code",
   "execution_count": 9,
   "metadata": {},
   "outputs": [],
   "source": [
    "bin_op = {\n",
    "\n",
    "    '+':['plus'],\n",
    "    '-':['moins'],\n",
    "    '.':['point', 'scalaire'],\n",
    "    '\\\\circ':['rond'],\n",
    "    '\\\\cup':['union'],\n",
    "    '\\\\cap':['inter'],\n",
    "    '\\\\times':['croix'],\n",
    "    '\\\\otimes':['tenseur', 'produit tensoriel', 'croix rond'],\n",
    "    '\\\\oplus':['somme directe', 'plus rond'],\n",
    "    '\\\\setminus':['prive', 'prive de'],\n",
    "    \"\\\\vee\":['ou'],\n",
    "    \"\\\\wedge\":['et'],\n",
    "\n",
    "}"
   ]
  },
  {
   "cell_type": "markdown",
   "metadata": {},
   "source": [
    "### 10. Fonctions"
   ]
  },
  {
   "cell_type": "code",
   "execution_count": 10,
   "metadata": {},
   "outputs": [],
   "source": [
    "# fonctions de une variable\n",
    "func = {\n",
    "\n",
    "    '\\\\deg #<apply>':['deg', 'degre'],\n",
    "    '\\\\dim #<apply>':['dim', 'dimension'],\n",
    "    '\\\\det #<apply>':['det', 'determinant'],\n",
    "    '\\\\exp #<apply>':['exponentielle', 'exp'],\n",
    "    '\\\\log #<apply>':['logarithme', 'log'],\n",
    "    '\\\\cos #<apply>':['cosinus', 'cos'],\n",
    "    '\\\\sin #<apply>':['sinus', 'sin'],\n",
    "    '\\\\arccos #<apply>':['arccosinus', 'arc cosinus', 'arccos', 'arc cos'],\n",
    "    '\\\\arcsin #<apply>':['arcsinus', 'arc sinus', 'arcsin', 'arc sin'],\n",
    "    '\\\\arctan #<apply>':['arctangente', 'arc tangente', 'arctan', 'arc tan'],\n",
    "    '\\\\mathrm { Re } #<apply>':['partie reelle'],\n",
    "    '\\\\mathrm { Im } #<apply>':['partie imaginaire'],\n",
    "\n",
    "}\n",
    "\n",
    "# fonctions spéciales (avec controle de séquence différent)\n",
    "spec_func = {\n",
    "\n",
    "    '\\\\frac #<apply>':['fraction', 'rapport'],\n",
    "    '\\\\sqrt #<apply>':['racine'],\n",
    "    '\\\\binom #<apply>':['binomial', 'coefficient binomial'],\n",
    "    '\\\\lVert #<apply>':['norme'],\n",
    "    '\\\\vert #<apply>':['valeur absolue'],\n",
    "    '\\\\mathbb { E } #<apply>':['esperance'],\n",
    "    '\\\\mathbb { P } #<apply>':['probabilite'],\n",
    "    '\\\\mathbb { V } #<apply>':['variance'],\n",
    "    \"\\\\neg #<apply>\" : ['non', 'negation'],\n",
    "    \"\\\\partial #<apply>\" : [\"d rond\",\"derivee partielle\", \"derivee\"],\n",
    "    \"\\\\nabla #<apply>\" : [\"gradient\"],\n",
    "\n",
    "}\n",
    "\n",
    "# fonctions d'ensemble\n",
    "set_func = {\n",
    "\n",
    "    '\\\\min #<apply>':['min', 'minimum'],\n",
    "    '\\\\max #<apply>':['max', 'maximum'],\n",
    "    '\\\\mathrm { argmin } #<apply>':['argmin', 'arg min', 'argument min', 'argument minimum'],\n",
    "    '\\\\mathrm { argmax } #<apply>':['argmax', 'arg max', 'argument max', 'argument maximum'],\n",
    "    '\\\\sup #<apply>':['sup', 'borne superieure'],\n",
    "    '\\\\inf #<apply>':['inf', 'borne inferieure'],\n",
    "\n",
    "\n",
    "}"
   ]
  },
  {
   "cell_type": "markdown",
   "metadata": {},
   "source": [
    "### 11. Itérateurs"
   ]
  },
  {
   "cell_type": "code",
   "execution_count": 11,
   "metadata": {},
   "outputs": [],
   "source": [
    "iter = {\n",
    "\n",
    "    '\\\\lim':['lim', 'limite'],\n",
    "    '\\\\bigotimes':['le produit tensoriel'],\n",
    "    '\\\\bigoplus':['la somme directe'],\n",
    "    '\\\\bigcup':['le union'],\n",
    "    '\\\\bigcap':['le intersection'],\n",
    "    '\\\\sum':['somme'],\n",
    "    '\\\\prod':['produit'],\n",
    "    '\\\\int':[\"integrale\"],\n",
    "    \n",
    "    \n",
    "}"
   ]
  },
  {
   "cell_type": "markdown",
   "metadata": {},
   "source": [
    "### 12. Caractères spéciaux"
   ]
  },
  {
   "cell_type": "code",
   "execution_count": 12,
   "metadata": {},
   "outputs": [],
   "source": [
    "symb = {\n",
    "\n",
    "    ':':['deux points', 'tel que'],\n",
    "    '\\\\dots':['trois points', 'trois petits points'],\n",
    "    ',':['virgule'],\n",
    "    '\\\\%':['pourcent', 'pour cent'],\n",
    "    '\\\\vert':['conditionnellement', 'conditionnellement à', 'barre verticale', 'sachant'],\n",
    "    \n",
    "}\n",
    "\n",
    "# math cseq\n",
    "math_cseq = {\n",
    "\n",
    "    \"(\":[\"parenthese\"],\n",
    "    \")\":[\"fermer la parenthese\", \"fermer parenthese\", \"parenthese fermante\", \"fin de parenthese\", \"fin parenthese\"],\n",
    "\n",
    "    \"\\\\lbrack\":[\"crochet\"],\n",
    "    \"\\\\rbrack\":[\"fermer le crochet\", \"fermer crochet\", \"crochet fermant\", \"fin de crochet\", \"fin crochet\"],\n",
    "\n",
    "    \"\\\\{\":[\"ensemble\"],\n",
    "    \"\\\\}\":[\"fermer le ensemble\", \"fermer ensemble\", \"fin de le ensemble\", \"fin ensemble\"],\n",
    "\n",
    "}\n",
    "\n",
    "\n",
    "# tex cseq\n",
    "tex_cseq = {\n",
    "\n",
    "    \"{\":[\"accolade\"],\n",
    "    \"}\":[\"fermer le accolade\", \"fermer accolade\", \"accolade fermante\", \"fin de le accolade\", \"fin accolade\"]\n",
    "    \n",
    "}"
   ]
  },
  {
   "cell_type": "markdown",
   "metadata": {},
   "source": [
    "### 13. Raccourcis naturels"
   ]
  },
  {
   "cell_type": "code",
   "execution_count": 14,
   "metadata": {},
   "outputs": [],
   "source": [
    "natural_expr = {\n",
    "\n",
    "    # relations d'ordre\n",
    "    \"\\\\geq 0\":  [\"positif\"],\n",
    "    \"> 0\":      [\"strictement positif\"],\n",
    "    \"\\\\leq 0\":  [\"negatif\"],\n",
    "    \"< 0\":      [\"strictement negatif\"],\n",
    "\n",
    "\n",
    "    # loi normale 0, 1\n",
    "    '\\\\quad \\\\text { resp. } \\\\quad':['respectivement'],\n",
    "\n",
    "}"
   ]
  },
  {
   "cell_type": "markdown",
   "metadata": {},
   "source": [
    "### 14. Mots-clés de grammaire"
   ]
  },
  {
   "cell_type": "code",
   "execution_count": 24,
   "metadata": {},
   "outputs": [],
   "source": [
    "grammar_keywrds = {\n",
    "\n",
    "    # symboles temporaires\n",
    "\n",
    "    # décorateurs de variable\n",
    "    \"#<hat>\":[\"chapeau\"],\n",
    "    \"#<tilde>\":[\"tilde\"],\n",
    "    \"#<star>\":[\"etoile\", \"star\"],\n",
    "    \"#<vec>\":[\"vecteur\"],\n",
    "    \n",
    "    # mots clés de structure grammaticale\n",
    "    \"#<for>\"         : [\"pour\"],\n",
    "    \"#<to>\"          : [\"à\"],\n",
    "    \"#<apply>\"       : [\"de\"],\n",
    "    \"#<over>\"        : [\"sur\", \"par rapport\"],\n",
    "    \"#<fact>\"        : [\"facteur\", \"facteur de\"],\n",
    "    \n",
    "\n",
    "    # opérateurs de variables \n",
    "    \"#<'>\":[\"prime\"],\n",
    "    \"#<ovline>\":[\"barre\"],\n",
    "    \"#<t>\":[\"transpose\"],\n",
    "    \"#<square>\":[\"carre\"],\n",
    "    \"#<cube>\":[\"cube\"],\n",
    "    '#<!>':[\"factoriel\"],\n",
    "\n",
    "    \"#<sub>\":['indice', 'underscore'],\n",
    "    \"#<sup>\":['puissance', 'exposant']\n",
    "\n",
    "}\n",
    "\n",
    "grammar_keys = {\n",
    "\n",
    "    # symboles finaux\n",
    "    \"\\\\limits\":[],\n",
    "    \"\\\\tilde\":[],\n",
    "    \"\\\\overline\":[],\n",
    "    \"\\\\hat\":[],\n",
    "    \"\\\\vec\":[],\n",
    "    \"\\\\left\":[],\n",
    "    \"\\\\right\":[],\n",
    "    \"\\\\rVert\":[],\n",
    "    \"\\\\,\":[],\n",
    "    \"'\":[],\n",
    "    \"*\":[],\n",
    "\n",
    "    # symboles de préservation des types\n",
    "    \"##<\":[],\n",
    "    \">##\":[],\n",
    "\n",
    "\n",
    "}"
   ]
  },
  {
   "cell_type": "markdown",
   "metadata": {},
   "source": [
    "### Grammaire complète :"
   ]
  },
  {
   "cell_type": "code",
   "execution_count": 25,
   "metadata": {},
   "outputs": [],
   "source": [
    "grammar = {\n",
    "\n",
    "    # noms de variables\n",
    "    \"var\":var,\n",
    "\n",
    "    # vals\n",
    "    \"dig\":digit,\n",
    "    \"infty\":infty,\n",
    "    \"set\":sets,\n",
    "    \n",
    "    # relations\n",
    "    \"rel\":rel,\n",
    "\n",
    "    # operateurs\n",
    "    \"qtf\":quantif,\n",
    "    \"uop\":un_op,\n",
    "    \"bop\":bin_op,\n",
    "\n",
    "    # fonctions et applications\n",
    "    \"fun\":func,\n",
    "    \"specfun\":spec_func,\n",
    "    \"setfun\":set_func,\n",
    "    \"iter\":iter, \n",
    "\n",
    "    # caractères spéciaux\n",
    "    \"symb\":symb,\n",
    "\n",
    "    # symboles de controle de sequence\n",
    "    \"mseq\":math_cseq,\n",
    "    \"tseq\":tex_cseq,\n",
    "\n",
    "    # expressions naturelles\n",
    "    \"nlex\":natural_expr,\n",
    "\n",
    "    # éléments non utilisés par la partie lexicale\n",
    "    \"gkey\":grammar_keys,\n",
    "\n",
    "    # mots clés de grammaire (à supprimer sur la sortie)\n",
    "    \"gwrd\":grammar_keywrds,\n",
    "    \n",
    "}"
   ]
  },
  {
   "cell_type": "markdown",
   "metadata": {},
   "source": [
    "### Création des fichiers"
   ]
  },
  {
   "cell_type": "code",
   "execution_count": 26,
   "metadata": {},
   "outputs": [],
   "source": [
    "tex_wrds = set()\n",
    "vocab = set()\n",
    "inputs = []\n",
    "outputs = []\n",
    "\n",
    "for key in grammar.keys():\n",
    "    for sub_symbol in grammar[key].keys():\n",
    "        tex_wrd_split = sub_symbol.split() \n",
    "        for wrd in tex_wrd_split : \n",
    "            tex_wrds.add(wrd)\n",
    "        if key != \"gkey\" : \n",
    "            for wrd in grammar[key][sub_symbol]:\n",
    "                wrd_lemm = Lemm.predict(wrd)\n",
    "                for sub_wrd in wrd_lemm.split():\n",
    "                    vocab.add(sub_wrd)\n",
    "                inputs.append(wrd_lemm)\n",
    "                outputs.append(sub_symbol)\n",
    "\n",
    "# Vocabulaire naturel\n",
    "with open(\"Vocabulary/vocab_fr.json\", 'w', encoding='utf-8') as writer1 :\n",
    "    json.dump({\"vocab\":list(vocab)}, writer1, indent=4)\n",
    "\n",
    "# Règles de transduction lexicales\n",
    "with open(\"Rules/fr/SeqToTex/math_rules.txt\", 'w', encoding='utf-8') as writer2 : \n",
    "    for i, inp in enumerate(inputs) : \n",
    "        writer2.write(inp + ';' + outputs[i] + ';\\n')\n",
    "\n",
    "# Tokens LaTeX\n",
    "with open(\"Tokens/tex_letters.json\", 'w', encoding='utf-8') as writer3 :\n",
    "    json.dump({\"add_space\":False, \"tokens\":list(tex_wrds)}, writer3, indent=4)\n",
    "\n",
    "# Grammaire LaTeX\n",
    "with open(\"Grammar/tex_grammar.json\", 'w', encoding='utf-8') as writer4 :\n",
    "    json.dump({key:list(grammar[key].keys()) for key in grammar.keys()}, writer4, indent=4)\n"
   ]
  },
  {
   "cell_type": "code",
   "execution_count": null,
   "metadata": {},
   "outputs": [],
   "source": []
  }
 ],
 "metadata": {
  "kernelspec": {
   "display_name": "base",
   "language": "python",
   "name": "python3"
  },
  "language_info": {
   "codemirror_mode": {
    "name": "ipython",
    "version": 3
   },
   "file_extension": ".py",
   "mimetype": "text/x-python",
   "name": "python",
   "nbconvert_exporter": "python",
   "pygments_lexer": "ipython3",
   "version": "3.12.3"
  }
 },
 "nbformat": 4,
 "nbformat_minor": 2
}
